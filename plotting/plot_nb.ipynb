{
 "cells": [
  {
   "cell_type": "code",
   "execution_count": 4,
   "metadata": {},
   "outputs": [],
   "source": [
    "\n",
    "import matplotlib.pyplot as plt\n",
    "import pandas as pd\n",
    "from datetime import datetime\n",
    "import os\n",
    "import glob\n",
    "import warnings\n",
    "import folium"
   ]
  },
  {
   "cell_type": "code",
   "execution_count": 5,
   "metadata": {},
   "outputs": [
    {
     "name": "stdout",
     "output_type": "stream",
     "text": [
      "path =  /home/dextertje/Git_projects/ME44312-Machine-Learning/raw_data_rotterdam\n"
     ]
    }
   ],
   "source": [
    "# Set the folder path where your files are stored\n",
    "folder_path = os.path.dirname(os.getcwd()) + r'/raw_data_rotterdam'\n",
    "\n",
    "print('path = ',folder_path)\n",
    "\n",
    "# Get a list of all JSON files in the folder\n",
    "file_list = glob.glob(os.path.join(folder_path, \"raw_ais_data_*.json\"))\n",
    "\n",
    "# Initialize an empty list to store DataFrames\n",
    "dfs = []\n",
    "\n",
    "#Suppress FutureWarnings to avoid cluttering the output\n",
    "warnings.simplefilter(action='ignore', category=FutureWarning)\n",
    "\n",
    "# Loop through each file and read the JSON data\n",
    "for file in file_list:\n",
    "    df = pd.read_json(file)  # Read the JSON file into a DataFrame\n",
    "    dfs.append(df)  # Add it to the list\n",
    "\n",
    "\n",
    "# Combine all DataFrames into one\n",
    "full_data = pd.concat(dfs, ignore_index=True)"
   ]
  },
  {
   "cell_type": "code",
   "execution_count": 6,
   "metadata": {},
   "outputs": [
    {
     "data": {
      "text/html": [
       "<div>\n",
       "<style scoped>\n",
       "    .dataframe tbody tr th:only-of-type {\n",
       "        vertical-align: middle;\n",
       "    }\n",
       "\n",
       "    .dataframe tbody tr th {\n",
       "        vertical-align: top;\n",
       "    }\n",
       "\n",
       "    .dataframe thead th {\n",
       "        text-align: right;\n",
       "    }\n",
       "</style>\n",
       "<table border=\"1\" class=\"dataframe\">\n",
       "  <thead>\n",
       "    <tr style=\"text-align: right;\">\n",
       "      <th></th>\n",
       "      <th>data</th>\n",
       "    </tr>\n",
       "  </thead>\n",
       "  <tbody>\n",
       "    <tr>\n",
       "      <th>0</th>\n",
       "      <td>{'navigation': {'time': '2021-01-02T00:04:33+0...</td>\n",
       "    </tr>\n",
       "    <tr>\n",
       "      <th>1</th>\n",
       "      <td>{'navigation': {'status': 'moored', 'course': ...</td>\n",
       "    </tr>\n",
       "    <tr>\n",
       "      <th>2</th>\n",
       "      <td>{'navigation': {'time': '2021-01-02T00:16:34+0...</td>\n",
       "    </tr>\n",
       "    <tr>\n",
       "      <th>3</th>\n",
       "      <td>{'vessel': {'imo': 9516650, 'name': 'JAN LEEGH...</td>\n",
       "    </tr>\n",
       "    <tr>\n",
       "      <th>4</th>\n",
       "      <td>{'navigation': {'status': 'moored', 'destinati...</td>\n",
       "    </tr>\n",
       "  </tbody>\n",
       "</table>\n",
       "</div>"
      ],
      "text/plain": [
       "                                                data\n",
       "0  {'navigation': {'time': '2021-01-02T00:04:33+0...\n",
       "1  {'navigation': {'status': 'moored', 'course': ...\n",
       "2  {'navigation': {'time': '2021-01-02T00:16:34+0...\n",
       "3  {'vessel': {'imo': 9516650, 'name': 'JAN LEEGH...\n",
       "4  {'navigation': {'status': 'moored', 'destinati..."
      ]
     },
     "execution_count": 6,
     "metadata": {},
     "output_type": "execute_result"
    }
   ],
   "source": [
    "# Every file contains the ais data of different ships in 1 day!\n",
    "# Dict summary:\n",
    "# - navigation\n",
    "#     - draught\n",
    "#     - time\n",
    "#     - speed\n",
    "#     - heading\n",
    "#     - location\n",
    "#         - long\n",
    "#         - lat\n",
    "#     - course\n",
    "#     - destination\n",
    "#         - name\n",
    "#         - eta\n",
    "#     - status\n",
    "# - device\n",
    "#     - dimensions\n",
    "#         - to_port\n",
    "#         - to_bow\n",
    "#         - to_stern\n",
    "#         - to_starboard\n",
    "#     - mmsi\n",
    "# - vessel\n",
    "#     - callsign\n",
    "#     - subtype\n",
    "#     - type\n",
    "#     - imo\n",
    "#     - name\n",
    "full_data.head()"
   ]
  },
  {
   "cell_type": "code",
   "execution_count": 1,
   "metadata": {},
   "outputs": [
    {
     "ename": "NameError",
     "evalue": "name 'folium' is not defined",
     "output_type": "error",
     "traceback": [
      "\u001b[0;31m---------------------------------------------------------------------------\u001b[0m",
      "\u001b[0;31mNameError\u001b[0m                                 Traceback (most recent call last)",
      "Cell \u001b[0;32mIn[1], line 6\u001b[0m\n\u001b[1;32m      4\u001b[0m \u001b[38;5;66;03m# Initialize the map\u001b[39;00m\n\u001b[1;32m      5\u001b[0m map_center \u001b[38;5;241m=\u001b[39m [\u001b[38;5;241m51.68825\u001b[39m, \u001b[38;5;241m4.59397\u001b[39m]  \u001b[38;5;66;03m# Example center location\u001b[39;00m\n\u001b[0;32m----> 6\u001b[0m m \u001b[38;5;241m=\u001b[39m \u001b[43mfolium\u001b[49m\u001b[38;5;241m.\u001b[39mMap(location\u001b[38;5;241m=\u001b[39mmap_center, zoom_start\u001b[38;5;241m=\u001b[39m\u001b[38;5;241m14\u001b[39m)\n\u001b[1;32m      8\u001b[0m \u001b[38;5;66;03m# Create a MarkerCluster object\u001b[39;00m\n\u001b[1;32m      9\u001b[0m marker_cluster \u001b[38;5;241m=\u001b[39m MarkerCluster()\u001b[38;5;241m.\u001b[39madd_to(m)\n",
      "\u001b[0;31mNameError\u001b[0m: name 'folium' is not defined"
     ]
    }
   ],
   "source": [
    "map_center = [51.68825, 4.59397]  # You can choose any central location based on your data\n",
    "from folium.plugins import MarkerCluster\n",
    "\n",
    "# Initialize the map\n",
    "map_center = [51.68825, 4.59397]  # Example center location\n",
    "m = folium.Map(location=map_center, zoom_start=14)\n",
    "\n",
    "# Create a MarkerCluster object\n",
    "marker_cluster = MarkerCluster().add_to(m)\n",
    "\n",
    "# Loop through the full_data to add markers to the cluster\n",
    "for i, row in enumerate(full_data[\"data\"]):\n",
    "    try:\n",
    "        lat = row[\"navigation\"][\"location\"].get(\"lat\")\n",
    "        lon = row[\"navigation\"][\"location\"].get(\"long\")\n",
    "        \n",
    "        # Only add marker if lat and lon are valid\n",
    "        if lat and lon:\n",
    "            # Create a popup with vessel details (name, status, MMSI)\n",
    "            popup_content = f\"Name: {row['vessel']['name']}<br>Status: {row['navigation']['status']}<br>MMSI: {row['device']['mmsi']}\"\n",
    "            \n",
    "            folium.Marker(\n",
    "                location=[lat, lon],\n",
    "                popup=popup_content,\n",
    "                tooltip=f\"{row['vessel']['name']}\"\n",
    "            ).add_to(marker_cluster)\n",
    "        \n",
    "        # Print progress to check the loop\n",
    "        print(f\"row {i + 1} / {len(full_data['data'])}\")\n",
    "    \n",
    "    except KeyError as e:\n",
    "        print(f\"Error processing row {i}: {e}\")\n",
    "\n",
    "# Display the map\n",
    "# m  # If in Jupyter, it will display directly"
   ]
  },
  {
   "cell_type": "code",
   "execution_count": null,
   "metadata": {},
   "outputs": [],
   "source": []
  }
 ],
 "metadata": {
  "kernelspec": {
   "display_name": ".venv",
   "language": "python",
   "name": "python3"
  },
  "language_info": {
   "codemirror_mode": {
    "name": "ipython",
    "version": 3
   },
   "file_extension": ".py",
   "mimetype": "text/x-python",
   "name": "python",
   "nbconvert_exporter": "python",
   "pygments_lexer": "ipython3",
   "version": "3.10.12"
  }
 },
 "nbformat": 4,
 "nbformat_minor": 2
}
